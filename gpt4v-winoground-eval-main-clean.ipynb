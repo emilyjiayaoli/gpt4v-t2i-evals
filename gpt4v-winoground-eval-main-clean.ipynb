{
 "cells": [
  {
   "cell_type": "markdown",
   "metadata": {},
   "source": [
    "# GPT4Vision Evaluations on Winoground"
   ]
  },
  {
   "cell_type": "markdown",
   "metadata": {},
   "source": [
    "Author: Emily Li"
   ]
  },
  {
   "cell_type": "markdown",
   "metadata": {},
   "source": [
    "### Load results from logs"
   ]
  },
  {
   "cell_type": "markdown",
   "metadata": {},
   "source": [
    "Provide path to res_evaluations_log.txt and retrieve \n",
    "1) List of IDs\n",
    "2) Winoground metrics (image/text/group score) for all ids\n",
    "3) Failure case ids for each score\n",
    "\n",
    "Note: only the first occurence of an ID is used if duplicate results exist"
   ]
  },
  {
   "cell_type": "code",
   "execution_count": 3,
   "metadata": {},
   "outputs": [
    {
     "name": "stdout",
     "output_type": "stream",
     "text": [
      "Dup found! ID 0. skipping...\n",
      "Experiment: raw probability - Total samples: 400\n",
      " Image Score: 129 --> 0.323\n",
      " Text Score: 147 --> 0.367\n",
      " Group Score: 114 --> 0.285\n",
      "Experiment: probability - Total samples: 400\n",
      " Image Score: 158 --> 0.395\n",
      " Text Score: 170 --> 0.425\n",
      " Group Score: 131 --> 0.328\n"
     ]
    }
   ],
   "source": [
    "from evaluation import GPT4V_Winoground_Evals as evals\n",
    "\n",
    "# Process result & calculate accuracy scores. \n",
    "# Example:\n",
    "log_file_path = \"./logs/raw-prob-log/res_evaluations_log.txt\" # Provide path to res_evaluations_log.txt\n",
    "raw_prob_id, raw_prob_scores, raw_prob_fc = evals.process_results(\"raw probability\", log_file_path) # Process results\n",
    "\n",
    "log_file_path = \"./logs/prob-log/res_evaluations_log.txt\"\n",
    "prob_id, prob_scores, prob_fc = evals.process_results(\"probability\", log_file_path)"
   ]
  },
  {
   "cell_type": "code",
   "execution_count": 4,
   "metadata": {},
   "outputs": [
    {
     "name": "stdout",
     "output_type": "stream",
     "text": [
      "raw_prob_id:  [0, 1, 2, 3, 4, 5, 6, 7, 8, 9, 10, 11, 12, 13, 14, 15, 16, 17, 18, 19, 20, 21, 22, 23, 24, 25, 26, 27, 28, 29, 30, 31, 32, 33, 34, 35, 36, 37, 38, 39, 40, 41, 42, 43, 44, 45, 46, 47, 48, 49, 50, 51, 52, 53, 54, 55, 56, 57, 58, 59, 60, 61, 62, 63, 64, 65, 66, 67, 68, 69, 70, 71, 72, 73, 74, 75, 76, 77, 78, 79, 80, 81, 82, 83, 84, 85, 86, 87, 88, 89, 90, 91, 92, 93, 94, 95, 96, 97, 98, 99, 100, 101, 102, 103, 104, 105, 106, 107, 108, 109, 110, 111, 112, 113, 114, 115, 116, 117, 118, 119, 120, 121, 122, 123, 124, 125, 126, 127, 128, 129, 130, 131, 132, 133, 134, 135, 136, 137, 138, 139, 140, 141, 142, 143, 144, 145, 146, 147, 148, 149, 150, 151, 152, 153, 154, 155, 156, 157, 158, 159, 160, 161, 162, 163, 164, 165, 166, 167, 168, 169, 170, 171, 172, 173, 174, 175, 176, 177, 178, 179, 180, 181, 182, 183, 184, 185, 186, 187, 188, 189, 190, 191, 192, 193, 194, 195, 196, 197, 198, 199, 200, 201, 202, 203, 204, 205, 206, 207, 208, 209, 210, 211, 212, 213, 214, 215, 216, 217, 218, 219, 220, 221, 222, 223, 224, 225, 226, 227, 228, 229, 230, 231, 232, 233, 234, 235, 236, 237, 238, 239, 240, 241, 242, 243, 244, 245, 246, 247, 248, 249, 250, 251, 252, 253, 254, 255, 256, 257, 258, 259, 260, 261, 262, 263, 264, 265, 266, 267, 268, 269, 270, 271, 272, 273, 274, 275, 276, 277, 278, 279, 280, 281, 282, 283, 284, 285, 286, 287, 288, 289, 290, 291, 292, 293, 294, 295, 296, 297, 298, 299, 300, 301, 302, 303, 304, 305, 306, 307, 308, 309, 310, 311, 312, 313, 314, 315, 316, 317, 318, 319, 320, 321, 322, 323, 324, 325, 326, 327, 328, 329, 330, 331, 332, 333, 334, 335, 336, 337, 338, 339, 340, 341, 342, 343, 344, 345, 346, 347, 348, 349, 350, 351, 352, 353, 354, 355, 356, 357, 358, 359, 360, 361, 362, 363, 364, 365, 366, 367, 368, 369, 370, 371, 372, 373, 374, 375, 376, 377, 378, 379, 380, 381, 382, 383, 384, 385, 386, 387, 388, 389, 390, 391, 392, 393, 394, 395, 396, 397, 398, 399]\n",
      "raw_prob_scores:  {4: {'image_score': 0, 'text_score': 0, 'group_score': 0}, 5: {'image_score': 0, 'text_score': 0, 'group_score': 0}, 8: {'image_score': 0, 'text_score': 1, 'group_score': 0}, 9: {'image_score': 0, 'text_score': 0, 'group_score': 0}, 11: {'image_score': 1, 'text_score': 1, 'group_score': 1}, 13: {'image_score': 0, 'text_score': 0, 'group_score': 0}, 48: {'image_score': 1, 'text_score': 1, 'group_score': 1}, 49: {'image_score': 1, 'text_score': 1, 'group_score': 1}, 50: {'image_score': 0, 'text_score': 0, 'group_score': 0}, 55: {'image_score': 1, 'text_score': 1, 'group_score': 1}, 57: {'image_score': 1, 'text_score': 1, 'group_score': 1}, 58: {'image_score': 0, 'text_score': 1, 'group_score': 0}, 59: {'image_score': 0, 'text_score': 0, 'group_score': 0}, 87: {'image_score': 0, 'text_score': 0, 'group_score': 0}, 90: {'image_score': 1, 'text_score': 1, 'group_score': 1}, 91: {'image_score': 1, 'text_score': 1, 'group_score': 1}, 95: {'image_score': 0, 'text_score': 0, 'group_score': 0}, 96: {'image_score': 0, 'text_score': 0, 'group_score': 0}, 98: {'image_score': 0, 'text_score': 0, 'group_score': 0}, 102: {'image_score': 1, 'text_score': 1, 'group_score': 1}, 103: {'image_score': 0, 'text_score': 0, 'group_score': 0}, 104: {'image_score': 1, 'text_score': 1, 'group_score': 1}, 105: {'image_score': 0, 'text_score': 0, 'group_score': 0}, 109: {'image_score': 0, 'text_score': 0, 'group_score': 0}, 110: {'image_score': 0, 'text_score': 0, 'group_score': 0}, 112: {'image_score': 0, 'text_score': 0, 'group_score': 0}, 113: {'image_score': 1, 'text_score': 1, 'group_score': 1}, 114: {'image_score': 0, 'text_score': 0, 'group_score': 0}, 115: {'image_score': 0, 'text_score': 1, 'group_score': 0}, 116: {'image_score': 1, 'text_score': 1, 'group_score': 1}, 119: {'image_score': 0, 'text_score': 0, 'group_score': 0}, 122: {'image_score': 1, 'text_score': 1, 'group_score': 1}, 123: {'image_score': 1, 'text_score': 1, 'group_score': 1}, 128: {'image_score': 1, 'text_score': 1, 'group_score': 1}, 129: {'image_score': 1, 'text_score': 1, 'group_score': 1}, 130: {'image_score': 0, 'text_score': 0, 'group_score': 0}, 131: {'image_score': 0, 'text_score': 0, 'group_score': 0}, 132: {'image_score': 0, 'text_score': 0, 'group_score': 0}, 135: {'image_score': 0, 'text_score': 0, 'group_score': 0}, 136: {'image_score': 1, 'text_score': 1, 'group_score': 1}, 175: {'image_score': 1, 'text_score': 0, 'group_score': 0}, 178: {'image_score': 0, 'text_score': 0, 'group_score': 0}, 180: {'image_score': 0, 'text_score': 0, 'group_score': 0}, 181: {'image_score': 1, 'text_score': 1, 'group_score': 1}, 286: {'image_score': 0, 'text_score': 0, 'group_score': 0}, 290: {'image_score': 0, 'text_score': 0, 'group_score': 0}, 292: {'image_score': 1, 'text_score': 0, 'group_score': 0}, 293: {'image_score': 0, 'text_score': 0, 'group_score': 0}, 294: {'image_score': 0, 'text_score': 0, 'group_score': 0}, 297: {'image_score': 0, 'text_score': 0, 'group_score': 0}, 300: {'image_score': 0, 'text_score': 0, 'group_score': 0}, 304: {'image_score': 0, 'text_score': 0, 'group_score': 0}, 306: {'image_score': 0, 'text_score': 0, 'group_score': 0}, 309: {'image_score': 1, 'text_score': 1, 'group_score': 1}, 310: {'image_score': 1, 'text_score': 1, 'group_score': 1}, 311: {'image_score': 0, 'text_score': 0, 'group_score': 0}, 313: {'image_score': 0, 'text_score': 0, 'group_score': 0}, 316: {'image_score': 0, 'text_score': 1, 'group_score': 0}, 318: {'image_score': 1, 'text_score': 1, 'group_score': 1}, 319: {'image_score': 0, 'text_score': 0, 'group_score': 0}, 320: {'image_score': 0, 'text_score': 0, 'group_score': 0}, 326: {'image_score': 0, 'text_score': 0, 'group_score': 0}, 328: {'image_score': 0, 'text_score': 0, 'group_score': 0}, 330: {'image_score': 0, 'text_score': 0, 'group_score': 0}, 331: {'image_score': 0, 'text_score': 0, 'group_score': 0}, 15: {'image_score': 0, 'text_score': 0, 'group_score': 0}, 16: {'image_score': 0, 'text_score': 0, 'group_score': 0}, 17: {'image_score': 1, 'text_score': 1, 'group_score': 1}, 19: {'image_score': 0, 'text_score': 0, 'group_score': 0}, 22: {'image_score': 1, 'text_score': 1, 'group_score': 1}, 23: {'image_score': 0, 'text_score': 0, 'group_score': 0}, 24: {'image_score': 0, 'text_score': 0, 'group_score': 0}, 25: {'image_score': 0, 'text_score': 0, 'group_score': 0}, 27: {'image_score': 1, 'text_score': 1, 'group_score': 1}, 28: {'image_score': 1, 'text_score': 1, 'group_score': 1}, 29: {'image_score': 1, 'text_score': 1, 'group_score': 1}, 31: {'image_score': 0, 'text_score': 0, 'group_score': 0}, 33: {'image_score': 0, 'text_score': 0, 'group_score': 0}, 34: {'image_score': 0, 'text_score': 0, 'group_score': 0}, 35: {'image_score': 0, 'text_score': 0, 'group_score': 0}, 36: {'image_score': 1, 'text_score': 1, 'group_score': 1}, 42: {'image_score': 0, 'text_score': 0, 'group_score': 0}, 43: {'image_score': 0, 'text_score': 0, 'group_score': 0}, 46: {'image_score': 1, 'text_score': 1, 'group_score': 1}, 73: {'image_score': 1, 'text_score': 1, 'group_score': 1}, 74: {'image_score': 1, 'text_score': 1, 'group_score': 1}, 75: {'image_score': 0, 'text_score': 0, 'group_score': 0}, 76: {'image_score': 0, 'text_score': 0, 'group_score': 0}, 77: {'image_score': 0, 'text_score': 0, 'group_score': 0}, 78: {'image_score': 0, 'text_score': 1, 'group_score': 0}, 80: {'image_score': 0, 'text_score': 0, 'group_score': 0}, 81: {'image_score': 0, 'text_score': 0, 'group_score': 0}, 83: {'image_score': 0, 'text_score': 0, 'group_score': 0}, 84: {'image_score': 0, 'text_score': 0, 'group_score': 0}, 85: {'image_score': 0, 'text_score': 0, 'group_score': 0}, 86: {'image_score': 0, 'text_score': 1, 'group_score': 0}, 137: {'image_score': 0, 'text_score': 0, 'group_score': 0}, 138: {'image_score': 0, 'text_score': 0, 'group_score': 0}, 139: {'image_score': 0, 'text_score': 0, 'group_score': 0}, 141: {'image_score': 1, 'text_score': 1, 'group_score': 1}, 142: {'image_score': 1, 'text_score': 1, 'group_score': 1}, 143: {'image_score': 0, 'text_score': 0, 'group_score': 0}, 158: {'image_score': 1, 'text_score': 1, 'group_score': 1}, 214: {'image_score': 0, 'text_score': 0, 'group_score': 0}, 216: {'image_score': 1, 'text_score': 1, 'group_score': 1}, 217: {'image_score': 0, 'text_score': 0, 'group_score': 0}, 226: {'image_score': 0, 'text_score': 1, 'group_score': 0}, 62: {'image_score': 0, 'text_score': 0, 'group_score': 0}, 63: {'image_score': 0, 'text_score': 0, 'group_score': 0}, 65: {'image_score': 1, 'text_score': 1, 'group_score': 1}, 67: {'image_score': 0, 'text_score': 0, 'group_score': 0}, 69: {'image_score': 0, 'text_score': 0, 'group_score': 0}, 72: {'image_score': 0, 'text_score': 0, 'group_score': 0}, 147: {'image_score': 1, 'text_score': 1, 'group_score': 1}, 150: {'image_score': 1, 'text_score': 1, 'group_score': 1}, 151: {'image_score': 0, 'text_score': 0, 'group_score': 0}, 152: {'image_score': 0, 'text_score': 0, 'group_score': 0}, 153: {'image_score': 1, 'text_score': 1, 'group_score': 1}, 155: {'image_score': 0, 'text_score': 0, 'group_score': 0}, 157: {'image_score': 1, 'text_score': 0, 'group_score': 0}, 162: {'image_score': 1, 'text_score': 0, 'group_score': 0}, 163: {'image_score': 1, 'text_score': 1, 'group_score': 1}, 165: {'image_score': 0, 'text_score': 1, 'group_score': 0}, 166: {'image_score': 0, 'text_score': 0, 'group_score': 0}, 167: {'image_score': 1, 'text_score': 0, 'group_score': 0}, 169: {'image_score': 1, 'text_score': 0, 'group_score': 0}, 172: {'image_score': 0, 'text_score': 0, 'group_score': 0}, 173: {'image_score': 0, 'text_score': 0, 'group_score': 0}, 174: {'image_score': 0, 'text_score': 0, 'group_score': 0}, 183: {'image_score': 0, 'text_score': 0, 'group_score': 0}, 187: {'image_score': 0, 'text_score': 0, 'group_score': 0}, 191: {'image_score': 0, 'text_score': 0, 'group_score': 0}, 192: {'image_score': 0, 'text_score': 0, 'group_score': 0}, 193: {'image_score': 0, 'text_score': 0, 'group_score': 0}, 194: {'image_score': 1, 'text_score': 1, 'group_score': 1}, 196: {'image_score': 0, 'text_score': 0, 'group_score': 0}, 197: {'image_score': 1, 'text_score': 1, 'group_score': 1}, 199: {'image_score': 0, 'text_score': 0, 'group_score': 0}, 206: {'image_score': 1, 'text_score': 1, 'group_score': 1}, 207: {'image_score': 0, 'text_score': 0, 'group_score': 0}, 208: {'image_score': 0, 'text_score': 0, 'group_score': 0}, 210: {'image_score': 0, 'text_score': 0, 'group_score': 0}, 212: {'image_score': 1, 'text_score': 1, 'group_score': 1}, 213: {'image_score': 0, 'text_score': 0, 'group_score': 0}, 256: {'image_score': 0, 'text_score': 0, 'group_score': 0}, 385: {'image_score': 0, 'text_score': 0, 'group_score': 0}, 386: {'image_score': 0, 'text_score': 0, 'group_score': 0}, 259: {'image_score': 0, 'text_score': 0, 'group_score': 0}, 387: {'image_score': 0, 'text_score': 0, 'group_score': 0}, 388: {'image_score': 1, 'text_score': 1, 'group_score': 1}, 389: {'image_score': 0, 'text_score': 0, 'group_score': 0}, 383: {'image_score': 0, 'text_score': 0, 'group_score': 0}, 390: {'image_score': 0, 'text_score': 0, 'group_score': 0}, 265: {'image_score': 1, 'text_score': 1, 'group_score': 1}, 391: {'image_score': 0, 'text_score': 0, 'group_score': 0}, 393: {'image_score': 0, 'text_score': 0, 'group_score': 0}, 268: {'image_score': 0, 'text_score': 0, 'group_score': 0}, 394: {'image_score': 0, 'text_score': 0, 'group_score': 0}, 396: {'image_score': 0, 'text_score': 0, 'group_score': 0}, 397: {'image_score': 0, 'text_score': 0, 'group_score': 0}, 398: {'image_score': 0, 'text_score': 1, 'group_score': 0}, 273: {'image_score': 0, 'text_score': 1, 'group_score': 0}, 276: {'image_score': 1, 'text_score': 1, 'group_score': 1}, 277: {'image_score': 0, 'text_score': 0, 'group_score': 0}, 280: {'image_score': 0, 'text_score': 0, 'group_score': 0}, 281: {'image_score': 0, 'text_score': 0, 'group_score': 0}, 282: {'image_score': 0, 'text_score': 0, 'group_score': 0}, 332: {'image_score': 0, 'text_score': 0, 'group_score': 0}, 333: {'image_score': 1, 'text_score': 1, 'group_score': 1}, 337: {'image_score': 0, 'text_score': 1, 'group_score': 0}, 339: {'image_score': 1, 'text_score': 1, 'group_score': 1}, 340: {'image_score': 1, 'text_score': 0, 'group_score': 0}, 341: {'image_score': 0, 'text_score': 0, 'group_score': 0}, 345: {'image_score': 0, 'text_score': 0, 'group_score': 0}, 346: {'image_score': 1, 'text_score': 1, 'group_score': 1}, 348: {'image_score': 0, 'text_score': 1, 'group_score': 0}, 351: {'image_score': 0, 'text_score': 0, 'group_score': 0}, 375: {'image_score': 0, 'text_score': 0, 'group_score': 0}, 355: {'image_score': 1, 'text_score': 1, 'group_score': 1}, 229: {'image_score': 0, 'text_score': 0, 'group_score': 0}, 231: {'image_score': 1, 'text_score': 1, 'group_score': 1}, 232: {'image_score': 0, 'text_score': 0, 'group_score': 0}, 361: {'image_score': 0, 'text_score': 0, 'group_score': 0}, 235: {'image_score': 0, 'text_score': 0, 'group_score': 0}, 236: {'image_score': 0, 'text_score': 0, 'group_score': 0}, 237: {'image_score': 0, 'text_score': 0, 'group_score': 0}, 238: {'image_score': 0, 'text_score': 0, 'group_score': 0}, 239: {'image_score': 0, 'text_score': 0, 'group_score': 0}, 364: {'image_score': 1, 'text_score': 1, 'group_score': 1}, 365: {'image_score': 1, 'text_score': 1, 'group_score': 1}, 242: {'image_score': 0, 'text_score': 0, 'group_score': 0}, 243: {'image_score': 0, 'text_score': 0, 'group_score': 0}, 366: {'image_score': 0, 'text_score': 0, 'group_score': 0}, 245: {'image_score': 1, 'text_score': 1, 'group_score': 1}, 246: {'image_score': 1, 'text_score': 1, 'group_score': 1}, 370: {'image_score': 1, 'text_score': 1, 'group_score': 1}, 248: {'image_score': 0, 'text_score': 0, 'group_score': 0}, 377: {'image_score': 0, 'text_score': 1, 'group_score': 0}, 379: {'image_score': 1, 'text_score': 0, 'group_score': 0}, 251: {'image_score': 0, 'text_score': 1, 'group_score': 0}, 252: {'image_score': 1, 'text_score': 1, 'group_score': 1}, 253: {'image_score': 0, 'text_score': 1, 'group_score': 0}, 255: {'image_score': 0, 'text_score': 0, 'group_score': 0}, 0: {'image_score': 0, 'text_score': 1, 'group_score': 0}, 1: {'image_score': 0, 'text_score': 0, 'group_score': 0}, 2: {'image_score': 1, 'text_score': 1, 'group_score': 1}, 3: {'image_score': 0, 'text_score': 0, 'group_score': 0}, 6: {'image_score': 1, 'text_score': 1, 'group_score': 1}, 7: {'image_score': 0, 'text_score': 1, 'group_score': 0}, 10: {'image_score': 1, 'text_score': 0, 'group_score': 0}, 12: {'image_score': 0, 'text_score': 0, 'group_score': 0}, 14: {'image_score': 1, 'text_score': 1, 'group_score': 1}, 18: {'image_score': 0, 'text_score': 1, 'group_score': 0}, 20: {'image_score': 0, 'text_score': 0, 'group_score': 0}, 21: {'image_score': 1, 'text_score': 1, 'group_score': 1}, 26: {'image_score': 1, 'text_score': 0, 'group_score': 0}, 30: {'image_score': 0, 'text_score': 1, 'group_score': 0}, 32: {'image_score': 1, 'text_score': 1, 'group_score': 1}, 37: {'image_score': 1, 'text_score': 1, 'group_score': 1}, 38: {'image_score': 0, 'text_score': 0, 'group_score': 0}, 39: {'image_score': 0, 'text_score': 0, 'group_score': 0}, 40: {'image_score': 0, 'text_score': 0, 'group_score': 0}, 41: {'image_score': 1, 'text_score': 1, 'group_score': 1}, 44: {'image_score': 0, 'text_score': 0, 'group_score': 0}, 45: {'image_score': 1, 'text_score': 1, 'group_score': 1}, 47: {'image_score': 0, 'text_score': 0, 'group_score': 0}, 51: {'image_score': 1, 'text_score': 1, 'group_score': 1}, 53: {'image_score': 0, 'text_score': 0, 'group_score': 0}, 54: {'image_score': 1, 'text_score': 1, 'group_score': 1}, 56: {'image_score': 1, 'text_score': 1, 'group_score': 1}, 60: {'image_score': 0, 'text_score': 0, 'group_score': 0}, 61: {'image_score': 1, 'text_score': 1, 'group_score': 1}, 64: {'image_score': 0, 'text_score': 0, 'group_score': 0}, 66: {'image_score': 0, 'text_score': 0, 'group_score': 0}, 68: {'image_score': 0, 'text_score': 0, 'group_score': 0}, 70: {'image_score': 0, 'text_score': 0, 'group_score': 0}, 71: {'image_score': 0, 'text_score': 0, 'group_score': 0}, 79: {'image_score': 0, 'text_score': 0, 'group_score': 0}, 82: {'image_score': 1, 'text_score': 1, 'group_score': 1}, 88: {'image_score': 0, 'text_score': 0, 'group_score': 0}, 89: {'image_score': 0, 'text_score': 1, 'group_score': 0}, 92: {'image_score': 1, 'text_score': 1, 'group_score': 1}, 93: {'image_score': 0, 'text_score': 0, 'group_score': 0}, 117: {'image_score': 0, 'text_score': 0, 'group_score': 0}, 118: {'image_score': 1, 'text_score': 1, 'group_score': 1}, 120: {'image_score': 0, 'text_score': 1, 'group_score': 0}, 121: {'image_score': 1, 'text_score': 1, 'group_score': 1}, 124: {'image_score': 0, 'text_score': 1, 'group_score': 0}, 125: {'image_score': 1, 'text_score': 1, 'group_score': 1}, 126: {'image_score': 0, 'text_score': 0, 'group_score': 0}, 127: {'image_score': 0, 'text_score': 1, 'group_score': 0}, 133: {'image_score': 0, 'text_score': 0, 'group_score': 0}, 134: {'image_score': 0, 'text_score': 0, 'group_score': 0}, 140: {'image_score': 0, 'text_score': 0, 'group_score': 0}, 144: {'image_score': 0, 'text_score': 0, 'group_score': 0}, 176: {'image_score': 0, 'text_score': 0, 'group_score': 0}, 177: {'image_score': 0, 'text_score': 1, 'group_score': 0}, 179: {'image_score': 1, 'text_score': 1, 'group_score': 1}, 182: {'image_score': 0, 'text_score': 0, 'group_score': 0}, 184: {'image_score': 0, 'text_score': 0, 'group_score': 0}, 185: {'image_score': 0, 'text_score': 0, 'group_score': 0}, 186: {'image_score': 0, 'text_score': 0, 'group_score': 0}, 188: {'image_score': 0, 'text_score': 0, 'group_score': 0}, 189: {'image_score': 0, 'text_score': 0, 'group_score': 0}, 190: {'image_score': 0, 'text_score': 1, 'group_score': 0}, 195: {'image_score': 1, 'text_score': 1, 'group_score': 1}, 198: {'image_score': 1, 'text_score': 0, 'group_score': 0}, 200: {'image_score': 0, 'text_score': 0, 'group_score': 0}, 201: {'image_score': 0, 'text_score': 0, 'group_score': 0}, 202: {'image_score': 1, 'text_score': 1, 'group_score': 1}, 203: {'image_score': 0, 'text_score': 0, 'group_score': 0}, 204: {'image_score': 1, 'text_score': 1, 'group_score': 1}, 205: {'image_score': 1, 'text_score': 1, 'group_score': 1}, 209: {'image_score': 0, 'text_score': 0, 'group_score': 0}, 211: {'image_score': 0, 'text_score': 0, 'group_score': 0}, 215: {'image_score': 0, 'text_score': 0, 'group_score': 0}, 222: {'image_score': 1, 'text_score': 0, 'group_score': 0}, 223: {'image_score': 0, 'text_score': 0, 'group_score': 0}, 224: {'image_score': 1, 'text_score': 1, 'group_score': 1}, 225: {'image_score': 0, 'text_score': 0, 'group_score': 0}, 227: {'image_score': 0, 'text_score': 0, 'group_score': 0}, 228: {'image_score': 0, 'text_score': 0, 'group_score': 0}, 230: {'image_score': 0, 'text_score': 0, 'group_score': 0}, 233: {'image_score': 0, 'text_score': 0, 'group_score': 0}, 234: {'image_score': 1, 'text_score': 1, 'group_score': 1}, 240: {'image_score': 0, 'text_score': 0, 'group_score': 0}, 241: {'image_score': 0, 'text_score': 0, 'group_score': 0}, 244: {'image_score': 0, 'text_score': 0, 'group_score': 0}, 247: {'image_score': 0, 'text_score': 0, 'group_score': 0}, 249: {'image_score': 1, 'text_score': 1, 'group_score': 1}, 250: {'image_score': 1, 'text_score': 1, 'group_score': 1}, 254: {'image_score': 0, 'text_score': 0, 'group_score': 0}, 257: {'image_score': 0, 'text_score': 0, 'group_score': 0}, 258: {'image_score': 1, 'text_score': 1, 'group_score': 1}, 260: {'image_score': 0, 'text_score': 0, 'group_score': 0}, 261: {'image_score': 0, 'text_score': 1, 'group_score': 0}, 262: {'image_score': 0, 'text_score': 0, 'group_score': 0}, 269: {'image_score': 0, 'text_score': 0, 'group_score': 0}, 270: {'image_score': 0, 'text_score': 0, 'group_score': 0}, 271: {'image_score': 0, 'text_score': 0, 'group_score': 0}, 272: {'image_score': 0, 'text_score': 0, 'group_score': 0}, 274: {'image_score': 0, 'text_score': 1, 'group_score': 0}, 275: {'image_score': 1, 'text_score': 0, 'group_score': 0}, 278: {'image_score': 1, 'text_score': 1, 'group_score': 1}, 279: {'image_score': 0, 'text_score': 0, 'group_score': 0}, 283: {'image_score': 0, 'text_score': 0, 'group_score': 0}, 284: {'image_score': 0, 'text_score': 0, 'group_score': 0}, 285: {'image_score': 0, 'text_score': 0, 'group_score': 0}, 287: {'image_score': 1, 'text_score': 1, 'group_score': 1}, 288: {'image_score': 0, 'text_score': 0, 'group_score': 0}, 289: {'image_score': 0, 'text_score': 0, 'group_score': 0}, 291: {'image_score': 0, 'text_score': 0, 'group_score': 0}, 295: {'image_score': 0, 'text_score': 0, 'group_score': 0}, 296: {'image_score': 0, 'text_score': 0, 'group_score': 0}, 298: {'image_score': 0, 'text_score': 0, 'group_score': 0}, 299: {'image_score': 0, 'text_score': 0, 'group_score': 0}, 301: {'image_score': 1, 'text_score': 1, 'group_score': 1}, 302: {'image_score': 1, 'text_score': 1, 'group_score': 1}, 312: {'image_score': 0, 'text_score': 0, 'group_score': 0}, 314: {'image_score': 1, 'text_score': 1, 'group_score': 1}, 315: {'image_score': 0, 'text_score': 0, 'group_score': 0}, 317: {'image_score': 0, 'text_score': 0, 'group_score': 0}, 321: {'image_score': 0, 'text_score': 0, 'group_score': 0}, 322: {'image_score': 0, 'text_score': 0, 'group_score': 0}, 323: {'image_score': 0, 'text_score': 0, 'group_score': 0}, 324: {'image_score': 0, 'text_score': 0, 'group_score': 0}, 325: {'image_score': 0, 'text_score': 0, 'group_score': 0}, 327: {'image_score': 1, 'text_score': 1, 'group_score': 1}, 329: {'image_score': 0, 'text_score': 0, 'group_score': 0}, 334: {'image_score': 1, 'text_score': 1, 'group_score': 1}, 335: {'image_score': 1, 'text_score': 1, 'group_score': 1}, 336: {'image_score': 0, 'text_score': 0, 'group_score': 0}, 338: {'image_score': 0, 'text_score': 0, 'group_score': 0}, 342: {'image_score': 1, 'text_score': 1, 'group_score': 1}, 343: {'image_score': 0, 'text_score': 0, 'group_score': 0}, 344: {'image_score': 0, 'text_score': 0, 'group_score': 0}, 347: {'image_score': 0, 'text_score': 0, 'group_score': 0}, 349: {'image_score': 1, 'text_score': 1, 'group_score': 1}, 357: {'image_score': 0, 'text_score': 0, 'group_score': 0}, 384: {'image_score': 1, 'text_score': 1, 'group_score': 1}, 263: {'image_score': 0, 'text_score': 0, 'group_score': 0}, 264: {'image_score': 0, 'text_score': 0, 'group_score': 0}, 392: {'image_score': 1, 'text_score': 1, 'group_score': 1}, 266: {'image_score': 0, 'text_score': 0, 'group_score': 0}, 267: {'image_score': 0, 'text_score': 0, 'group_score': 0}, 395: {'image_score': 1, 'text_score': 1, 'group_score': 1}, 399: {'image_score': 0, 'text_score': 0, 'group_score': 0}, 145: {'image_score': 0, 'text_score': 0, 'group_score': 0}, 146: {'image_score': 0, 'text_score': 0, 'group_score': 0}, 148: {'image_score': 0, 'text_score': 1, 'group_score': 0}, 149: {'image_score': 0, 'text_score': 1, 'group_score': 0}, 154: {'image_score': 1, 'text_score': 1, 'group_score': 1}, 156: {'image_score': 0, 'text_score': 0, 'group_score': 0}, 159: {'image_score': 0, 'text_score': 0, 'group_score': 0}, 160: {'image_score': 1, 'text_score': 1, 'group_score': 1}, 161: {'image_score': 0, 'text_score': 0, 'group_score': 0}, 164: {'image_score': 0, 'text_score': 0, 'group_score': 0}, 168: {'image_score': 0, 'text_score': 0, 'group_score': 0}, 170: {'image_score': 1, 'text_score': 1, 'group_score': 1}, 171: {'image_score': 0, 'text_score': 0, 'group_score': 0}, 303: {'image_score': 0, 'text_score': 1, 'group_score': 0}, 305: {'image_score': 0, 'text_score': 1, 'group_score': 0}, 307: {'image_score': 0, 'text_score': 0, 'group_score': 0}, 218: {'image_score': 0, 'text_score': 0, 'group_score': 0}, 219: {'image_score': 0, 'text_score': 0, 'group_score': 0}, 220: {'image_score': 0, 'text_score': 0, 'group_score': 0}, 221: {'image_score': 1, 'text_score': 1, 'group_score': 1}, 94: {'image_score': 1, 'text_score': 1, 'group_score': 1}, 350: {'image_score': 0, 'text_score': 0, 'group_score': 0}, 352: {'image_score': 1, 'text_score': 1, 'group_score': 1}, 97: {'image_score': 1, 'text_score': 1, 'group_score': 1}, 353: {'image_score': 0, 'text_score': 0, 'group_score': 0}, 99: {'image_score': 1, 'text_score': 1, 'group_score': 1}, 100: {'image_score': 1, 'text_score': 0, 'group_score': 0}, 101: {'image_score': 1, 'text_score': 1, 'group_score': 1}, 354: {'image_score': 1, 'text_score': 1, 'group_score': 1}, 356: {'image_score': 0, 'text_score': 0, 'group_score': 0}, 358: {'image_score': 0, 'text_score': 0, 'group_score': 0}, 359: {'image_score': 1, 'text_score': 1, 'group_score': 1}, 106: {'image_score': 1, 'text_score': 1, 'group_score': 1}, 107: {'image_score': 1, 'text_score': 1, 'group_score': 1}, 108: {'image_score': 1, 'text_score': 1, 'group_score': 1}, 360: {'image_score': 0, 'text_score': 0, 'group_score': 0}, 362: {'image_score': 0, 'text_score': 0, 'group_score': 0}, 111: {'image_score': 1, 'text_score': 0, 'group_score': 0}, 369: {'image_score': 0, 'text_score': 0, 'group_score': 0}, 371: {'image_score': 0, 'text_score': 0, 'group_score': 0}, 372: {'image_score': 0, 'text_score': 1, 'group_score': 0}, 373: {'image_score': 1, 'text_score': 1, 'group_score': 1}, 374: {'image_score': 1, 'text_score': 1, 'group_score': 1}, 376: {'image_score': 1, 'text_score': 1, 'group_score': 1}, 378: {'image_score': 0, 'text_score': 1, 'group_score': 0}, 380: {'image_score': 0, 'text_score': 0, 'group_score': 0}, 381: {'image_score': 0, 'text_score': 0, 'group_score': 0}, 382: {'image_score': 1, 'text_score': 1, 'group_score': 1}, 363: {'image_score': 0, 'text_score': 0, 'group_score': 0}, 367: {'image_score': 0, 'text_score': 0, 'group_score': 0}, 368: {'image_score': 0, 'text_score': 0, 'group_score': 0}, 52: {'image_score': 0, 'text_score': 0, 'group_score': 0}, 308: {'image_score': 0, 'text_score': 0, 'group_score': 0}}\n",
      "raw_prob_fc:  {'text_score_fc': [4, 5, 9, 13, 50, 59, 87, 95, 96, 98, 103, 105, 109, 110, 112, 114, 119, 130, 131, 132, 135, 175, 178, 180, 286, 290, 292, 293, 294, 297, 300, 304, 306, 311, 313, 319, 320, 326, 328, 330, 331, 15, 16, 19, 23, 24, 25, 31, 33, 34, 35, 42, 43, 75, 76, 77, 80, 81, 83, 84, 85, 137, 138, 139, 143, 214, 217, 62, 63, 67, 69, 72, 151, 152, 155, 157, 162, 166, 167, 169, 172, 173, 174, 183, 187, 191, 192, 193, 196, 199, 207, 208, 210, 213, 256, 385, 386, 259, 387, 389, 383, 390, 391, 393, 268, 394, 396, 397, 277, 280, 281, 282, 332, 340, 341, 345, 351, 375, 229, 232, 361, 235, 236, 237, 238, 239, 242, 243, 366, 248, 379, 255, 1, 3, 10, 12, 20, 26, 38, 39, 40, 44, 47, 53, 60, 64, 66, 68, 70, 71, 79, 88, 93, 117, 126, 133, 134, 140, 144, 176, 182, 184, 185, 186, 188, 189, 198, 200, 201, 203, 209, 211, 215, 222, 223, 225, 227, 228, 230, 233, 240, 241, 244, 247, 254, 257, 260, 262, 269, 270, 271, 272, 275, 279, 283, 284, 285, 288, 289, 291, 295, 296, 298, 299, 312, 315, 317, 321, 322, 323, 324, 325, 329, 336, 338, 343, 344, 347, 357, 263, 264, 266, 267, 399, 145, 146, 156, 159, 161, 164, 168, 171, 307, 218, 219, 220, 350, 353, 100, 356, 358, 360, 362, 111, 369, 371, 380, 381, 363, 367, 368, 52, 308], 'image_score_fc': [4, 5, 8, 9, 13, 50, 58, 59, 87, 95, 96, 98, 103, 105, 109, 110, 112, 114, 115, 119, 130, 131, 132, 135, 178, 180, 286, 290, 293, 294, 297, 300, 304, 306, 311, 313, 316, 319, 320, 326, 328, 330, 331, 15, 16, 19, 23, 24, 25, 31, 33, 34, 35, 42, 43, 75, 76, 77, 78, 80, 81, 83, 84, 85, 86, 137, 138, 139, 143, 214, 217, 226, 62, 63, 67, 69, 72, 151, 152, 155, 165, 166, 172, 173, 174, 183, 187, 191, 192, 193, 196, 199, 207, 208, 210, 213, 256, 385, 386, 259, 387, 389, 383, 390, 391, 393, 268, 394, 396, 397, 398, 273, 277, 280, 281, 282, 332, 337, 341, 345, 348, 351, 375, 229, 232, 361, 235, 236, 237, 238, 239, 242, 243, 366, 248, 377, 251, 253, 255, 0, 1, 3, 7, 12, 18, 20, 30, 38, 39, 40, 44, 47, 53, 60, 64, 66, 68, 70, 71, 79, 88, 89, 93, 117, 120, 124, 126, 127, 133, 134, 140, 144, 176, 177, 182, 184, 185, 186, 188, 189, 190, 200, 201, 203, 209, 211, 215, 223, 225, 227, 228, 230, 233, 240, 241, 244, 247, 254, 257, 260, 261, 262, 269, 270, 271, 272, 274, 279, 283, 284, 285, 288, 289, 291, 295, 296, 298, 299, 312, 315, 317, 321, 322, 323, 324, 325, 329, 336, 338, 343, 344, 347, 357, 263, 264, 266, 267, 399, 145, 146, 148, 149, 156, 159, 161, 164, 168, 171, 303, 305, 307, 218, 219, 220, 350, 353, 356, 358, 360, 362, 369, 371, 372, 378, 380, 381, 363, 367, 368, 52, 308], 'group_score_fc': [4, 5, 8, 9, 13, 50, 58, 59, 87, 95, 96, 98, 103, 105, 109, 110, 112, 114, 115, 119, 130, 131, 132, 135, 175, 178, 180, 286, 290, 292, 293, 294, 297, 300, 304, 306, 311, 313, 316, 319, 320, 326, 328, 330, 331, 15, 16, 19, 23, 24, 25, 31, 33, 34, 35, 42, 43, 75, 76, 77, 78, 80, 81, 83, 84, 85, 86, 137, 138, 139, 143, 214, 217, 226, 62, 63, 67, 69, 72, 151, 152, 155, 157, 162, 165, 166, 167, 169, 172, 173, 174, 183, 187, 191, 192, 193, 196, 199, 207, 208, 210, 213, 256, 385, 386, 259, 387, 389, 383, 390, 391, 393, 268, 394, 396, 397, 398, 273, 277, 280, 281, 282, 332, 337, 340, 341, 345, 348, 351, 375, 229, 232, 361, 235, 236, 237, 238, 239, 242, 243, 366, 248, 377, 379, 251, 253, 255, 0, 1, 3, 7, 10, 12, 18, 20, 26, 30, 38, 39, 40, 44, 47, 53, 60, 64, 66, 68, 70, 71, 79, 88, 89, 93, 117, 120, 124, 126, 127, 133, 134, 140, 144, 176, 177, 182, 184, 185, 186, 188, 189, 190, 198, 200, 201, 203, 209, 211, 215, 222, 223, 225, 227, 228, 230, 233, 240, 241, 244, 247, 254, 257, 260, 261, 262, 269, 270, 271, 272, 274, 275, 279, 283, 284, 285, 288, 289, 291, 295, 296, 298, 299, 312, 315, 317, 321, 322, 323, 324, 325, 329, 336, 338, 343, 344, 347, 357, 263, 264, 266, 267, 399, 145, 146, 148, 149, 156, 159, 161, 164, 168, 171, 303, 305, 307, 218, 219, 220, 350, 353, 100, 356, 358, 360, 362, 111, 369, 371, 372, 378, 380, 381, 363, 367, 368, 52, 308], 'total_ids': [4, 5, 8, 9, 11, 13, 48, 49, 50, 55, 57, 58, 59, 87, 90, 91, 95, 96, 98, 102, 103, 104, 105, 109, 110, 112, 113, 114, 115, 116, 119, 122, 123, 128, 129, 130, 131, 132, 135, 136, 175, 178, 180, 181, 286, 290, 292, 293, 294, 297, 300, 304, 306, 309, 310, 311, 313, 316, 318, 319, 320, 326, 328, 330, 331, 15, 16, 17, 19, 22, 23, 24, 25, 27, 28, 29, 31, 33, 34, 35, 36, 42, 43, 46, 73, 74, 75, 76, 77, 78, 80, 81, 83, 84, 85, 86, 137, 138, 139, 141, 142, 143, 158, 214, 216, 217, 226, 62, 63, 65, 67, 69, 72, 147, 150, 151, 152, 153, 155, 157, 162, 163, 165, 166, 167, 169, 172, 173, 174, 183, 187, 191, 192, 193, 194, 196, 197, 199, 206, 207, 208, 210, 212, 213, 256, 385, 386, 259, 387, 388, 389, 383, 390, 265, 391, 393, 268, 394, 396, 397, 398, 273, 276, 277, 280, 281, 282, 332, 333, 337, 339, 340, 341, 345, 346, 348, 351, 375, 355, 229, 231, 232, 361, 235, 236, 237, 238, 239, 364, 365, 242, 243, 366, 245, 246, 370, 248, 377, 379, 251, 252, 253, 255, 0, 1, 2, 3, 6, 7, 10, 12, 14, 18, 20, 21, 26, 30, 32, 37, 38, 39, 40, 41, 44, 45, 47, 51, 53, 54, 56, 60, 61, 64, 66, 68, 70, 71, 79, 82, 88, 89, 92, 93, 117, 118, 120, 121, 124, 125, 126, 127, 133, 134, 140, 144, 176, 177, 179, 182, 184, 185, 186, 188, 189, 190, 195, 198, 200, 201, 202, 203, 204, 205, 209, 211, 215, 222, 223, 224, 225, 227, 228, 230, 233, 234, 240, 241, 244, 247, 249, 250, 254, 257, 258, 260, 261, 262, 269, 270, 271, 272, 274, 275, 278, 279, 283, 284, 285, 287, 288, 289, 291, 295, 296, 298, 299, 301, 302, 312, 314, 315, 317, 321, 322, 323, 324, 325, 327, 329, 334, 335, 336, 338, 342, 343, 344, 347, 349, 357, 384, 263, 264, 392, 266, 267, 395, 399, 145, 146, 148, 149, 154, 156, 159, 160, 161, 164, 168, 170, 171, 303, 305, 307, 218, 219, 220, 221, 94, 350, 352, 97, 353, 99, 100, 101, 354, 356, 358, 359, 106, 107, 108, 360, 362, 111, 369, 371, 372, 373, 374, 376, 378, 380, 381, 382, 363, 367, 368, 52, 308]}\n"
     ]
    }
   ],
   "source": [
    "print(\"raw_prob_id: \", raw_prob_id)\n",
    "print(\"raw_prob_scores: \", raw_prob_scores)\n",
    "print(\"raw_prob_fc: \", raw_prob_fc)"
   ]
  },
  {
   "cell_type": "markdown",
   "metadata": {},
   "source": [
    "### Winoground evaluations"
   ]
  },
  {
   "cell_type": "markdown",
   "metadata": {},
   "source": [
    "Optional: sample a subset of indices to evaluate"
   ]
  },
  {
   "cell_type": "code",
   "execution_count": 6,
   "metadata": {},
   "outputs": [
    {
     "name": "stdout",
     "output_type": "stream",
     "text": [
      "Sampled 2 indices: [57, 65]\n"
     ]
    }
   ],
   "source": [
    "# Optional: sample 50 indices from the raw probability results\n",
    "amt_to_sample = 2\n",
    "sample_indices = evals.randomly_sample(amt_to_sample)\n",
    "print(f\"Sampled {len(sample_indices)} indices:\", sample_indices)"
   ]
  },
  {
   "cell_type": "markdown",
   "metadata": {},
   "source": [
    "Feel free to write additional prompting functions. Otherwise import existing prompts from prompts.py"
   ]
  },
  {
   "cell_type": "code",
   "execution_count": 15,
   "metadata": {},
   "outputs": [],
   "source": [
    "from prompts import get_prob_num_prompts # most of the prompts are stored in prompts.py\n",
    "\n",
    "# Example prompt - returns system message and user message\n",
    "def get_prob_num_prompts():\n",
    "    system_msg = \"You are a helpful image data analyst and linguist. Answer the user’s questions accurately and concisely.\"\n",
    "    user_msg = \"First describe what is happening in the image. Then, calculate a similarity score in the format of the probability of a match between the provided image and the caption '{img_caption}'. Explain the rationale \\n\" \n",
    "    user_msg += \"Provide your evaluation in JSON format, including keys for 'score', 'description, and 'reasoning'.\"\n",
    "    return system_msg, user_msg\n",
    "\n",
    "def get_num_score_prompts_b():\n",
    "    \"\"\"\n",
    "    Baseline from GPT-4V(ision) as a Generalist Evaluator for\n",
    "    Vision-Language Tasks\n",
    "    \"\"\"\n",
    "    system_msg = \"\"\n",
    "    user_msg = \"Evaluate whether a given caption accurately represents the main content and objects of an associated image with scale 1-100.\"\n",
    "    user_msg += \"Provide your evaluation in JSON format, including keys for 'score' and 'reasoning'.\"\n",
    "    return system_msg, user_msg"
   ]
  },
  {
   "cell_type": "code",
   "execution_count": 9,
   "metadata": {},
   "outputs": [
    {
     "name": "stdout",
     "output_type": "stream",
     "text": [
      "Saving to folder: ./logs/example-log\n",
      "Sample 57... Finished i1c1, i1c2, i2c1, i2c2, Text score: 1, Image score: 1, Group score: 1, Took 28.83 seconds!\n",
      "Sample 65... Finished i1c1, i1c2, i2c1, i2c2, Text score: 1, Image score: 1, Group score: 1, Took 29.055 seconds!\n",
      "Done - Overall failed_samples: []\n"
     ]
    }
   ],
   "source": [
    "from evaluation import GPT4V_Winoground_Evals as evals\n",
    "\n",
    "# Arguments\n",
    "master_folder_path = \"./\"\n",
    "save_folder_name= \"logs/1-100_score_baseline-log/\"            # Log folder path (change me)\n",
    "system_msg, user_msg = get_num_score_prompts_b()       # Defines prompt (change me)\n",
    "openai_api_key = \"<insert your PENAI_API_KEY>\"      # OpenAI API KEY (change me)\n",
    "\n",
    "id_list = sample_indices                             # List of winoground ids to evaluate (change me)\n",
    "\n",
    "# Define evaluator & Run evaluation\n",
    "evaluator = evals(master_folder_path, save_folder_name, openai_api_key, \n",
    "                  post_processing_fn=None, # Post processing function to apply to the generated text. Default: None\n",
    "                  system_prompt=system_msg, user_prompt=user_msg,\n",
    "                  api_max_retries=2, # Number of times to retry API call before giving up\n",
    "                  )\n",
    "evaluator.reset_api_key(openai_api_key) # Ensure that the correct API key is used\n",
    "evaluator.evaluate_winoground_gpt4v(id_list) \n"
   ]
  },
  {
   "cell_type": "markdown",
   "metadata": {},
   "source": [
    "Let's see our results!"
   ]
  },
  {
   "cell_type": "code",
   "execution_count": 14,
   "metadata": {},
   "outputs": [
    {
     "name": "stdout",
     "output_type": "stream",
     "text": [
      "Experiment: prob - Total samples: 2\n",
      " Image Score: 2 --> 1.0\n",
      " Text Score: 2 --> 1.0\n",
      " Group Score: 2 --> 1.0\n",
      "ids:  [57, 65]\n",
      "raw_scores:  {57: {'image_score': 1, 'text_score': 1, 'group_score': 1}, 65: {'image_score': 1, 'text_score': 1, 'group_score': 1}}\n",
      "fc:  {'text_score_fc': [], 'image_score_fc': [], 'group_score_fc': [], 'total_ids': [57, 65]}\n"
     ]
    }
   ],
   "source": [
    "log_path = save_folder_name + \"/res_evaluations_log.txt\" # Provide path to res_evaluations_log.txt\n",
    "ids, raw_scores, fc = evals.process_results(\"prob\", log_path) # Process results\n",
    "\n",
    "print(\"ids: \", ids)\n",
    "print(\"raw_scores: \", raw_scores)\n",
    "print(\"fc: \", fc)"
   ]
  }
 ],
 "metadata": {
  "kernelspec": {
   "display_name": "wg-venv",
   "language": "python",
   "name": "python3"
  },
  "language_info": {
   "codemirror_mode": {
    "name": "ipython",
    "version": 3
   },
   "file_extension": ".py",
   "mimetype": "text/x-python",
   "name": "python",
   "nbconvert_exporter": "python",
   "pygments_lexer": "ipython3",
   "version": "3.9.13"
  }
 },
 "nbformat": 4,
 "nbformat_minor": 2
}
